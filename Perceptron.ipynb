{
 "cells": [
  {
   "cell_type": "markdown",
   "id": "f43fcfa5",
   "metadata": {},
   "source": [
    "# Universidad Nacional de Colombia\n",
    "## Técnicas de Inteligencia Artificial\n",
    "## Taller Redes Neuronales\n",
    "#### Ana Sofía Aponte Barriga, Jose Alejandro Peñaranda Chía, Daniel Esteban Prieto Jiménez, David Felipe Silva Chacón"
   ]
  },
  {
   "cell_type": "markdown",
   "id": "f4bdda05",
   "metadata": {},
   "source": [
    "Se trabajará con una cantidad N=200 de vectores de entrenamiento.\n",
    "Inicialmente creamos el dataset. Para esto, empleamos la función make_blobs de sklearn, que nos proporcionará data linealmente separable generada aleatoriamente, así como su clasificación."
   ]
  },
  {
   "cell_type": "code",
   "execution_count": 37,
   "id": "2f8fac39",
   "metadata": {},
   "outputs": [],
   "source": [
    "import numpy as np\n",
    "from sklearn.datasets import make_blobs\n",
    "from matplotlib import pyplot as plt\n",
    "\n",
    "vectores = []\n",
    "N = 100\n",
    "features = 2\n",
    "x, y = make_blobs(n_samples=N, n_features=features, centers=2, cluster_std=2, random_state=2)\n",
    "xext = np.zeros([N, features+1])\n",
    "for i in range(N):\n",
    "    xext[i] = np.concatenate(([1], x[i]))\n"
   ]
  },
  {
   "cell_type": "markdown",
   "id": "e0817702",
   "metadata": {},
   "source": [
    "A continuación, definimos la cantidad de iteraciones. También generamos los pesos aleatoriamente, empleando la función rand de numpy."
   ]
  },
  {
   "cell_type": "code",
   "execution_count": 38,
   "id": "88dd2bc9",
   "metadata": {},
   "outputs": [
    {
     "name": "stdout",
     "output_type": "stream",
     "text": [
      "Pesos iniciales [0.79047434 0.69660165 0.24745963]\n"
     ]
    }
   ],
   "source": [
    "k = 1000\n",
    "w = np.random.rand(features+1)\n",
    "print(\"Pesos iniciales\", w)"
   ]
  },
  {
   "cell_type": "markdown",
   "id": "220a6213",
   "metadata": {},
   "source": [
    "Ahora, creamos el ciclo mayor dentro del cuál se calculará la suma, el valor de salida y el error para cada vector de entrenamiento. También se actualizan los parámetros W según el resultado y calculado.\n",
    "En este ciclo, además, se evaluará en cada iteración si se cumple la condición de parada (error igual a cero para todos los vectores) o si se alcanzaron ya todas las iteraciones."
   ]
  },
  {
   "cell_type": "code",
   "execution_count": 39,
   "id": "3fba9e45",
   "metadata": {},
   "outputs": [
    {
     "name": "stdout",
     "output_type": "stream",
     "text": [
      "0 0\n",
      "0 0\n",
      "0 1\n",
      "1 1\n",
      "1 1\n",
      "0 0\n",
      "0 0\n",
      "1 1\n",
      "0 0\n",
      "0 0\n",
      "1 1\n",
      "1 1\n",
      "0 0\n",
      "1 1\n",
      "0 0\n",
      "1 1\n",
      "0 0\n",
      "1 1\n",
      "0 0\n",
      "0 0\n",
      "0 0\n",
      "1 1\n",
      "1 1\n",
      "0 0\n",
      "0 0\n",
      "0 0\n",
      "1 1\n",
      "0 0\n",
      "0 0\n",
      "1 0\n",
      "1 1\n",
      "1 1\n",
      "1 1\n",
      "0 0\n",
      "0 0\n",
      "0 0\n",
      "0 0\n",
      "1 1\n",
      "0 0\n",
      "1 1\n",
      "1 1\n",
      "0 0\n",
      "0 0\n",
      "1 1\n",
      "1 0\n",
      "0 0\n",
      "1 1\n",
      "1 1\n",
      "0 0\n",
      "1 1\n",
      "0 0\n",
      "1 1\n",
      "1 1\n",
      "1 1\n",
      "0 0\n",
      "1 1\n",
      "0 1\n",
      "1 1\n",
      "0 0\n",
      "1 1\n",
      "1 1\n",
      "1 1\n",
      "0 0\n",
      "1 1\n",
      "1 1\n",
      "0 0\n",
      "0 0\n",
      "1 1\n",
      "1 1\n",
      "0 0\n",
      "1 1\n",
      "1 1\n",
      "1 1\n",
      "1 1\n",
      "0 0\n",
      "1 1\n",
      "0 0\n",
      "0 0\n",
      "0 0\n",
      "1 1\n",
      "0 0\n",
      "0 0\n",
      "1 1\n",
      "1 1\n",
      "0 0\n",
      "1 1\n",
      "1 1\n",
      "0 0\n",
      "1 1\n",
      "0 0\n",
      "1 1\n",
      "0 0\n",
      "0 0\n",
      "1 1\n",
      "0 0\n",
      "0 0\n",
      "1 1\n",
      "0 0\n",
      "0 0\n",
      "1 1\n",
      "Límite de iteraciones alcanzado\n",
      "Pesos resultantes:  [21.79047434  1.19938521  4.38932515]\n"
     ]
    }
   ],
   "source": [
    "message = \"Mensaje\"\n",
    "yResult = []\n",
    "lrate = 0.2\n",
    "for iteration in range(k):\n",
    "    errorCheck = False\n",
    "    yTemp = []\n",
    "    for i in range(N):\n",
    "        net = np.dot(xext[i], w)\n",
    "        if (net >= 0):\n",
    "            yTemp.append(1)\n",
    "        else:\n",
    "            yTemp.append(0)\n",
    "        if (iteration == k-1):\n",
    "            print(y[i], yTemp[i])\n",
    "        error = y[i] - yTemp[i]\n",
    "        if(error != 0):\n",
    "            errorCheck = True\n",
    "            w = w + error * xext[i] * lrate\n",
    "        yResult = np.asarray(yTemp)\n",
    "    if (not errorCheck):\n",
    "        print(\"Todos los errores son cero\")\n",
    "        print(\"Última iteración: \", iteration)\n",
    "        break\n",
    "    if (iteration == k-1):\n",
    "        print(\"Límite de iteraciones alcanzado\")\n",
    "        break\n",
    "\n",
    "print(\"Pesos resultantes: \", w)"
   ]
  },
  {
   "cell_type": "markdown",
   "id": "c0bb69c1",
   "metadata": {},
   "source": [
    "Como se puede ver en las gráficas a continuación, empleando 100 vectores y con 1000 iteraciones, se programó con éxito el perceptrón, dando como resultado una clasificación con muy pocos errores."
   ]
  },
  {
   "cell_type": "code",
   "execution_count": 42,
   "id": "8dab0ee3",
   "metadata": {},
   "outputs": [
    {
     "data": {
      "text/plain": [
       "Text(0.5, 1.0, 'Resultado obtenido')"
      ]
     },
     "execution_count": 42,
     "metadata": {},
     "output_type": "execute_result"
    },
    {
     "data": {
      "image/png": "[encoded data removed]",
      "text/plain": [
       "<Figure size 720x576 with 1 Axes>"
      ]
     },
     "metadata": {
      "needs_background": "light"
     },
     "output_type": "display_data"
    },
    {
     "data": {
      "image/png": "[encoded data removed]",
      "text/plain": [
       "<Figure size 720x576 with 1 Axes>"
      ]
     },
     "metadata": {
      "needs_background": "light"
     },
     "output_type": "display_data"
    }
   ],
   "source": [
    "fig1 = plt.figure(figsize=(10,8))\n",
    "plt.plot(x[:, 0][y == 0], x[:, 1][y == 0], 'r^')\n",
    "plt.plot(x[:, 0][y == 1], x[:, 1][y == 1], 'bs')\n",
    "plt.xlabel(\"feature 1\")\n",
    "plt.ylabel(\"feature 2\")\n",
    "plt.title('Resultado esperado')\n",
    "\n",
    "fig2 = plt.figure(figsize=(10,8))\n",
    "plt.plot(x[:, 0][yResult == 0], x[:, 1][yResult == 0], 'r^')\n",
    "plt.plot(x[:, 0][yResult == 1], x[:, 1][yResult == 1], 'bs')\n",
    "plt.xlabel(\"feature 1\")\n",
    "plt.ylabel(\"feature 2\")\n",
    "plt.title('Resultado obtenido')"
   ]
  },
  {
   "cell_type": "code",
   "execution_count": null,
   "id": "d7669031",
   "metadata": {},
   "outputs": [],
   "source": []
  }
 ],
 "metadata": {
  "kernelspec": {
   "display_name": "Python 3 (ipykernel)",
   "language": "python",
   "name": "python3"
  },
  "language_info": {
   "codemirror_mode": {
    "name": "ipython",
    "version": 3
   },
   "file_extension": ".py",
   "mimetype": "text/x-python",
   "name": "python",
   "nbconvert_exporter": "python",
   "pygments_lexer": "ipython3",
   "version": "3.10.4"
  }
 },
 "nbformat": 4,
 "nbformat_minor": 5
}
